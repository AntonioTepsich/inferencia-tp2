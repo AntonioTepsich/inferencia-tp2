{
 "cells": [
  {
   "cell_type": "code",
   "execution_count": 94,
   "metadata": {},
   "outputs": [],
   "source": [
    "import numpy as np\n",
    "import matplotlib.pyplot as plt\n",
    "import csv"
   ]
  },
  {
   "cell_type": "markdown",
   "metadata": {},
   "source": [
    "# Extraccion de Datos"
   ]
  },
  {
   "cell_type": "code",
   "execution_count": 95,
   "metadata": {},
   "outputs": [],
   "source": [
    "def leer_archivo_csv(archivo_csv):\n",
    "    # Lista para almacenar los datos del archivo\n",
    "    altosGp1 = []\n",
    "    anchosGp1 = []\n",
    "    altosGp2 = []\n",
    "    anchosGp2 = []\n",
    "    gp1=[]\n",
    "    gp2=[]\n",
    "\n",
    "    try:\n",
    "        with open(archivo_csv, 'r', newline='') as csv_file:\n",
    "            csv_reader = csv.reader(csv_file)\n",
    "            next(csv_reader)\n",
    "\n",
    "            # Leer los datos del archivo\n",
    "            for row in csv_reader:\n",
    "                # Suponemos que la primera columna contiene valores numéricos, la segunda cadenas y la tercera flotantes.\n",
    "                # Si tus columnas tienen un formato diferente, deberás ajustar el código aquí.\n",
    "                if(row[0] == '' or row[1] == '' or row[2] == ''):\n",
    "                    continue\n",
    "                if(row[0]==\"1\"):\n",
    "                    largo = int(row[1])\n",
    "                    alto = int(row[2])\n",
    "                    altosGp1.append(largo)\n",
    "                    anchosGp1.append(alto)\n",
    "                else:\n",
    "                    largo = int(row[1])\n",
    "                    alto = int(row[2])\n",
    "                    altosGp2.append(largo)\n",
    "                    anchosGp2.append(alto)\n",
    "            \n",
    "            gp1.append(altosGp1)\n",
    "            gp1.append(anchosGp1)\n",
    "            gp2.append(altosGp2)\n",
    "            gp2.append(anchosGp2)\n",
    "    \n",
    "    except FileNotFoundError:\n",
    "        print(f\"El archivo '{archivo_csv}' no fue encontrado.\")\n",
    "        return None\n",
    "\n",
    "    return gp1,gp2"
   ]
  },
  {
   "cell_type": "markdown",
   "metadata": {},
   "source": [
    "## Entropia"
   ]
  },
  {
   "cell_type": "code",
   "execution_count": 96,
   "metadata": {},
   "outputs": [],
   "source": [
    "def entropia(p):\n",
    "    for i in range(len(p)):\n",
    "        if(p[i]==0):\n",
    "            p[i]=1\n",
    "    return -np.sum(p*np.log2(p))"
   ]
  },
  {
   "cell_type": "markdown",
   "metadata": {},
   "source": [
    "### Grupo 1"
   ]
  },
  {
   "cell_type": "code",
   "execution_count": 97,
   "metadata": {},
   "outputs": [
    {
     "name": "stdout",
     "output_type": "stream",
     "text": [
      "Entropia largo gp1:  8.3438399390172\n",
      "Entropia alto gp1:  8.340465634115612\n"
     ]
    }
   ],
   "source": [
    "gp1,gp2 = leer_archivo_csv('Todo.csv')\n",
    "\n",
    "#--------Calculon probabilidad del largo de gp1---------------- \n",
    "prob_largo_gp1 = np.array(gp1[0])/np.sum(gp1[0])\n",
    "print(\"Entropia largo gp1: \",entropia(prob_largo_gp1))\n",
    "\n",
    "#--------Calculon probabilidad del ancho de gp1----------------\n",
    "prob_alto_gp1 = np.array(gp1[1])/np.sum(gp1[1])\n",
    "print(\"Entropia alto gp1: \",entropia(prob_alto_gp1))\n"
   ]
  },
  {
   "cell_type": "markdown",
   "metadata": {},
   "source": [
    "### Grupo 2"
   ]
  },
  {
   "cell_type": "code",
   "execution_count": 98,
   "metadata": {},
   "outputs": [
    {
     "name": "stdout",
     "output_type": "stream",
     "text": [
      "Entropia largo gp2:  7.756459754146846\n",
      "Entropia alto gp2:  7.758617544037829\n"
     ]
    }
   ],
   "source": [
    "#--------Calculon probabilidad del largo de gp2----------------\n",
    "prob_largo_gp2 = np.array(gp2[0])/np.sum(gp2[0])\n",
    "print(\"Entropia largo gp2: \",entropia(prob_largo_gp2))\n",
    "\n",
    "#--------Calculon probabilidad del ancho de gp2----------------\n",
    "prob_alto_gp2 = np.array(gp2[1])/np.sum(gp2[1])\n",
    "print(\"Entropia alto gp2: \",entropia(prob_alto_gp2))"
   ]
  },
  {
   "cell_type": "markdown",
   "metadata": {},
   "source": [
    "## Entropia Condicional"
   ]
  },
  {
   "cell_type": "code",
   "execution_count": 105,
   "metadata": {},
   "outputs": [],
   "source": [
    "def conditonal_entropy(x, y, bins):\n",
    "    if len(x)<len(y):\n",
    "        #elegir randoms de y\n",
    "        y = np.random.choice(y, len(x))\n",
    "    elif len(y)<len(x):\n",
    "        #elegir randoms de x\n",
    "        x = np.random.choice(x, len(y))\n",
    "\n",
    "    hist_2d, x_edges, y_edges = np.histogram2d(x, y, bins=bins)\n",
    "    hist_2d = hist_2d/np.sum(hist_2d) #Matriz de probabilidades\n",
    "\n",
    "    conditonal_entropy = 0\n",
    "    for i in range (len(x_edges)-1):\n",
    "        for j in range (len(y_edges)-1):\n",
    "            if hist_2d[i,j] != 0:\n",
    "                conditonal_entropy -= hist_2d[i,j]*np.log2(hist_2d[i,j]/hist_2d[i].sum())\n",
    "\n",
    "    return conditonal_entropy\n"
   ]
  },
  {
   "cell_type": "code",
   "execution_count": 106,
   "metadata": {},
   "outputs": [
    {
     "name": "stdout",
     "output_type": "stream",
     "text": [
      "H(A1/L1):  1.3115433811024402\n",
      "H(A2/L2):  1.1251274508998534\n",
      "H(A1/A2):  1.8205143070995427\n",
      "H(L1/L2):  1.836756126104539\n"
     ]
    }
   ],
   "source": [
    "gp1,gp2 = leer_archivo_csv('Todo.csv')\n",
    "#--------Calculo la entropia condicional de A1 dado L1----------------\n",
    "print(\"H(A1/L1): \",conditonal_entropy(gp1[0], gp1[1], 5))\n",
    "\n",
    "#--------Calculo la entropia condicional de A2 dado L2----------------\n",
    "print(\"H(A2/L2): \",conditonal_entropy(gp2[0], gp2[1], 5))\n",
    "\n",
    "#--------Calculo la entropia condicional de L1 dado A1----------------\n",
    "print(\"H(A1/A2): \",conditonal_entropy(gp2[1], gp1[1], 5))\n",
    "\n",
    "#--------Calculo la entropia condicional de L2 dado A2----------------\n",
    "print(\"H(L1/L2): \",conditonal_entropy(gp2[0], gp1[0], 5))"
   ]
  },
  {
   "cell_type": "markdown",
   "metadata": {},
   "source": [
    "## Informacion Mutua"
   ]
  },
  {
   "cell_type": "code",
   "execution_count": 108,
   "metadata": {},
   "outputs": [
    {
     "name": "stdout",
     "output_type": "stream",
     "text": [
      "I(A1/L1):  7.02892225301316\n",
      "I(A2/L2):  6.633490093137956\n"
     ]
    }
   ],
   "source": [
    "gp1,gp2 = leer_archivo_csv('Todo.csv')\n",
    "\n",
    "# I(A/L) = H(A) - H(A/L)\n",
    "\n",
    "#--------Calculon probabilidad del ancho de gp1---------------- \n",
    "prob_alto_gp1 = np.array(gp1[1])/np.sum(gp1[1])\n",
    "\n",
    "#--------Calculon probabilidad del alto de gp2----------------\n",
    "prob_alto_gp2 = np.array(gp2[1])/np.sum(gp2[1])\n",
    "\n",
    "# ----------Informacion Mutua entre A1 y L1----------------\n",
    "print(\"I(A1/L1): \",entropia(prob_alto_gp1)-conditonal_entropy(gp1[0], gp1[1], 5))\n",
    "\n",
    "# ----------Informacion Mutua entre A2 y L2----------------\n",
    "print(\"I(A2/L2): \",entropia(prob_alto_gp2)-conditonal_entropy(gp2[0], gp2[1], 5))"
   ]
  },
  {
   "cell_type": "markdown",
   "metadata": {},
   "source": [
    "## Distancia Kullback–Leibler"
   ]
  },
  {
   "cell_type": "code",
   "execution_count": null,
   "metadata": {},
   "outputs": [],
   "source": []
  },
  {
   "cell_type": "code",
   "execution_count": null,
   "metadata": {},
   "outputs": [],
   "source": []
  },
  {
   "cell_type": "markdown",
   "metadata": {},
   "source": [
    "# ESTO NO VA"
   ]
  },
  {
   "cell_type": "code",
   "execution_count": 100,
   "metadata": {},
   "outputs": [
    {
     "name": "stdout",
     "output_type": "stream",
     "text": [
      "1.8522168000712593\n",
      "1.898129143547075\n"
     ]
    }
   ],
   "source": [
    "def entropiacondicional(p):\n",
    "    h=0\n",
    "    for i in range(len(p)):\n",
    "        for j in range(len(p[0])):\n",
    "            if(p[i,j]!=0):\n",
    "                h-=p[i,j]*np.log2(p[i,j])\n",
    "    return h\n",
    "\n",
    "\n",
    "\n",
    "#calcular la entropia condicional de gp1 y gp2\n",
    "if len(gp1[0])>len(gp2[0]):\n",
    "    gp1[0]=gp1[0][:len(gp2[0])]\n",
    "else:\n",
    "    gp2[0]=gp2[0][:len(gp1[0])]\n",
    "x=np.histogram2d(gp1[0],gp2[0],bins=5)\n",
    "x=x[0]/np.sum(x[0])\n",
    "hxy=entropiacondicional(x)\n",
    "hx=entropia(np.sum(x,axis=0))\n",
    "hcond=hxy-hx\n",
    "hy=entropia(np.sum(x,axis=1))\n",
    "print(hcond)\n",
    "print(hy)"
   ]
  },
  {
   "cell_type": "code",
   "execution_count": 101,
   "metadata": {},
   "outputs": [
    {
     "name": "stdout",
     "output_type": "stream",
     "text": [
      "[[0.01351351 0.02252252 0.03153153 0.         0.00900901]\n",
      " [0.04504505 0.16216216 0.1036036  0.02702703 0.01351351]\n",
      " [0.04954955 0.1981982  0.07657658 0.03153153 0.        ]\n",
      " [0.02252252 0.1036036  0.05855856 0.00900901 0.        ]\n",
      " [0.         0.0045045  0.01801802 0.         0.        ]]\n",
      "0.0796008638042334\n"
     ]
    }
   ],
   "source": [
    "#quiero hacer el producto de distribuciones\n",
    "def producto(x1):\n",
    "    suma=0\n",
    "    for i in range(len(x1)):\n",
    "        for j in range(len(x1[0])):\n",
    "            if(x1[i,j]!=0):\n",
    "                x=np.sum(x1,axis=1)[i]\n",
    "                y=np.sum(x1,axis=0)[j]\n",
    "                suma+=x1[i][j]*np.log2(x1[i][j]/(x*y))\n",
    "    return suma\n",
    "\n",
    "if len(gp1[1])>len(gp2[1]):\n",
    "    gp1[1]=gp1[1][:len(gp2[1])]\n",
    "else:\n",
    "    gp2[1]=gp2[1][:len(gp1[1])]\n",
    "\n",
    "d=np.histogram2d(gp1[1],gp2[1],bins=5)[0]\n",
    "x1=d/len(gp2[1])\n",
    "print(x1)\n",
    "r=producto(x1)\n",
    "\n",
    "print(r)\n"
   ]
  }
 ],
 "metadata": {
  "kernelspec": {
   "display_name": "Python 3",
   "language": "python",
   "name": "python3"
  },
  "language_info": {
   "codemirror_mode": {
    "name": "ipython",
    "version": 3
   },
   "file_extension": ".py",
   "mimetype": "text/x-python",
   "name": "python",
   "nbconvert_exporter": "python",
   "pygments_lexer": "ipython3",
   "version": "3.11.5"
  },
  "orig_nbformat": 4
 },
 "nbformat": 4,
 "nbformat_minor": 2
}
