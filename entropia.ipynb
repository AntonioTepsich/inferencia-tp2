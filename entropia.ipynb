{
 "cells": [
  {
   "cell_type": "code",
   "execution_count": 10,
   "metadata": {},
   "outputs": [],
   "source": [
    "import numpy as np\n",
    "import matplotlib.pyplot as plt\n",
    "import csv"
   ]
  },
  {
   "cell_type": "markdown",
   "metadata": {},
   "source": [
    "## Ejercicio 2.1"
   ]
  },
  {
   "cell_type": "code",
   "execution_count": null,
   "metadata": {},
   "outputs": [],
   "source": [
    "def Informacion(p):\n",
    "    h=-p*np.log2(p)-(1-p)*np.log2(1-p)\n",
    "    return h\n",
    "\n",
    "p=np.linspace(0.01,0.99,100)\n",
    "h=Informacion(p)\n",
    "plt.plot(p,h)\n",
    "plt.xlabel('p')\n",
    "plt.ylabel('H')\n",
    "plt.show()"
   ]
  },
  {
   "cell_type": "code",
   "execution_count": 11,
   "metadata": {},
   "outputs": [],
   "source": [
    "def leer_archivo_csv(archivo_csv):\n",
    "    # Lista para almacenar los datos del archivo\n",
    "    altosGp1 = []\n",
    "    anchosGp1 = []\n",
    "    altosGp2 = []\n",
    "    anchosGp2 = []\n",
    "    gp1=[]\n",
    "    gp2=[]\n",
    "\n",
    "    try:\n",
    "        with open(archivo_csv, 'r', newline='') as csv_file:\n",
    "            csv_reader = csv.reader(csv_file)\n",
    "            next(csv_reader)\n",
    "\n",
    "            # Leer los datos del archivo\n",
    "            for row in csv_reader:\n",
    "                # Suponemos que la primera columna contiene valores numéricos, la segunda cadenas y la tercera flotantes.\n",
    "                # Si tus columnas tienen un formato diferente, deberás ajustar el código aquí.\n",
    "                if(row[0] == '' or row[1] == '' or row[2] == ''):\n",
    "                    continue\n",
    "                if(row[0]==\"1\"):\n",
    "                    largo = int(row[1])\n",
    "                    alto = int(row[2])\n",
    "                    altosGp1.append(largo)\n",
    "                    anchosGp1.append(alto)\n",
    "                else:\n",
    "                    largo = int(row[1])\n",
    "                    alto = int(row[2])\n",
    "                    altosGp2.append(largo)\n",
    "                    anchosGp2.append(alto)\n",
    "            \n",
    "            gp1.append(altosGp1)\n",
    "            gp1.append(anchosGp1)\n",
    "            gp2.append(altosGp2)\n",
    "            gp2.append(anchosGp2)\n",
    "    \n",
    "    except FileNotFoundError:\n",
    "        print(f\"El archivo '{archivo_csv}' no fue encontrado.\")\n",
    "        return None\n",
    "\n",
    "    return gp1,gp2"
   ]
  },
  {
   "cell_type": "markdown",
   "metadata": {},
   "source": [
    "## Ejercicio 2.2"
   ]
  },
  {
   "cell_type": "code",
   "execution_count": null,
   "metadata": {},
   "outputs": [],
   "source": [
    "#EXTRAIGO LOS DATOS DEL ARCHIVO CSV\n",
    "nombre_archivo_csv = 'Todo.csv'\n",
    "gp1,gp2 = leer_archivo_csv(nombre_archivo_csv)\n",
    "\n",
    "\n",
    "\n",
    "\n",
    "\n",
    "\n",
    "def entropiacondicional(p):\n",
    "    h=0\n",
    "    for i in range(len(p)):\n",
    "        for j in range(len(p[0])):\n",
    "            if(p[i,j]!=0):\n",
    "                h-=p[i,j]*np.log2(p[i,j])\n",
    "    return h\n",
    "\n",
    "def entropia(p):\n",
    "    h=0\n",
    "    for i in range(len(p)):\n",
    "        if(p[i]!=0):\n",
    "            h-=p[i]*np.log2(p[i])\n",
    "    return h\n",
    "\n",
    "\n",
    "\n",
    "#calcular la entropia condicional de gp1 y gp2\n",
    "if len(gp1[0])>len(gp2[0]):\n",
    "    gp1[0]=gp1[0][:len(gp2[0])]\n",
    "else:\n",
    "    gp2[0]=gp2[0][:len(gp1[0])]\n",
    "x=np.histogram2d(gp1[0],gp2[0],bins=5)\n",
    "x=x[0]/np.sum(x[0])\n",
    "hxy=entropiacondicional(x)\n",
    "hx=entropia(np.sum(x,axis=0))\n",
    "hcond=hxy-hx\n",
    "hy=entropia(np.sum(x,axis=1))\n",
    "print(hcond)\n",
    "print(hy)"
   ]
  },
  {
   "cell_type": "code",
   "execution_count": 28,
   "metadata": {},
   "outputs": [
    {
     "name": "stdout",
     "output_type": "stream",
     "text": [
      "[[0.01351351 0.02252252 0.03153153 0.         0.00900901]\n",
      " [0.04504505 0.16216216 0.1036036  0.02702703 0.01351351]\n",
      " [0.04954955 0.1981982  0.07657658 0.03153153 0.        ]\n",
      " [0.02252252 0.1036036  0.05855856 0.00900901 0.        ]\n",
      " [0.         0.0045045  0.01801802 0.         0.        ]]\n",
      "0.0796008638042334\n"
     ]
    }
   ],
   "source": [
    "#quiero hacer el producto de distribuciones\n",
    "def producto(x1):\n",
    "    suma=0\n",
    "    for i in range(len(x1)):\n",
    "        for j in range(len(x1[0])):\n",
    "            if(x1[i,j]!=0):\n",
    "                x=np.sum(x1,axis=1)[i]\n",
    "                y=np.sum(x1,axis=0)[j]\n",
    "                suma+=x1[i][j]*np.log2(x1[i][j]/(x*y))\n",
    "    return suma\n",
    "\n",
    "if len(gp1[1])>len(gp2[1]):\n",
    "    gp1[1]=gp1[1][:len(gp2[1])]\n",
    "else:\n",
    "    gp2[1]=gp2[1][:len(gp1[1])]\n",
    "\n",
    "d=np.histogram2d(gp1[1],gp2[1],bins=5)[0]\n",
    "x1=d/len(gp2[1])\n",
    "print(x1)\n",
    "r=producto(x1)\n",
    "\n",
    "print(r)\n"
   ]
  }
 ],
 "metadata": {
  "kernelspec": {
   "display_name": "Python 3",
   "language": "python",
   "name": "python3"
  },
  "language_info": {
   "codemirror_mode": {
    "name": "ipython",
    "version": 3
   },
   "file_extension": ".py",
   "mimetype": "text/x-python",
   "name": "python",
   "nbconvert_exporter": "python",
   "pygments_lexer": "ipython3",
   "version": "3.11.4"
  },
  "orig_nbformat": 4
 },
 "nbformat": 4,
 "nbformat_minor": 2
}
